{
 "cells": [
  {
   "cell_type": "code",
   "execution_count": null,
   "id": "304db288",
   "metadata": {},
   "outputs": [],
   "source": []
  },
  {
   "cell_type": "code",
   "execution_count": null,
   "id": "84d210ca",
   "metadata": {},
   "outputs": [],
   "source": []
  },
  {
   "cell_type": "code",
   "execution_count": null,
   "id": "53397409",
   "metadata": {},
   "outputs": [],
   "source": []
  },
  {
   "cell_type": "markdown",
   "id": "d8dfa787",
   "metadata": {},
   "source": [
    "# Install Guide"
   ]
  },
  {
   "cell_type": "code",
   "execution_count": null,
   "id": "490ae33f",
   "metadata": {},
   "outputs": [],
   "source": []
  },
  {
   "cell_type": "markdown",
   "id": "8b2f5989",
   "metadata": {},
   "source": [
    "<br>\n",
    "<div style=\"font-size:20px; line-height:1.4;\">\n",
    "    \n",
    "This guide is considers some of the most commonly encountered install issues, but not all install issues.\n",
    "If you still have install issues after this guide then please contact us.\n",
    "    \n",
    "Generally most install issues are caused by python3.8 or later not being installed propely.\n",
    "You can see the python version in your current environment by running `python -V`and it will not work if you do not have python at all.\n",
    "If your enviroment does not have the correct python you need to install it, but also mind that using already present python's if improperly installed\n",
    "and trying to work with those can lead to issues, that are more difficult to fix without quite some unix/programming experience.\n",
    "To install python check out the 'Install Python' section.\n",
    "\n",
    "Now, if the python version is sufficient and you also have `pip` and you were able to install `prstools` the issue is \n",
    "probably that your path does not include everything for python to work properly."
   ]
  },
  {
   "cell_type": "code",
   "execution_count": null,
   "id": "c9fdfefc",
   "metadata": {},
   "outputs": [],
   "source": []
  },
  {
   "cell_type": "markdown",
   "id": "e359415f",
   "metadata": {},
   "source": [
    "## Install Python"
   ]
  },
  {
   "cell_type": "markdown",
   "id": "231c9d83",
   "metadata": {},
   "source": [
    "<br>\n",
    "<div style=\"font-size:20px; line-height:1.4;\">\n",
    "    \n",
    "There are several ways to install Python, but a great way to do it is using `conda`."
   ]
  },
  {
   "cell_type": "code",
   "execution_count": null,
   "id": "c6897c11",
   "metadata": {},
   "outputs": [],
   "source": []
  },
  {
   "cell_type": "code",
   "execution_count": null,
   "id": "3ddd46b1",
   "metadata": {},
   "outputs": [],
   "source": []
  },
  {
   "cell_type": "code",
   "execution_count": null,
   "id": "0c465eba",
   "metadata": {},
   "outputs": [],
   "source": []
  },
  {
   "cell_type": "markdown",
   "id": "82ce0393",
   "metadata": {},
   "source": [
    "## Issue: `pip install` not working."
   ]
  },
  {
   "cell_type": "code",
   "execution_count": null,
   "id": "64f49b21",
   "metadata": {},
   "outputs": [],
   "source": []
  },
  {
   "cell_type": "code",
   "execution_count": null,
   "id": "dc07e597",
   "metadata": {},
   "outputs": [],
   "source": []
  },
  {
   "cell_type": "markdown",
   "id": "5ea8dcaf",
   "metadata": {},
   "source": [
    "Common fixes:\n",
    "\n",
    "- Add `--user` to your command"
   ]
  },
  {
   "cell_type": "code",
   "execution_count": null,
   "id": "ccab0861",
   "metadata": {},
   "outputs": [],
   "source": []
  },
  {
   "cell_type": "markdown",
   "id": "8c6bbd37",
   "metadata": {},
   "source": [
    "## Issue: `pip install` worked, but prstools command not found."
   ]
  },
  {
   "cell_type": "markdown",
   "id": "bde398d1",
   "metadata": {},
   "source": [
    "The issue is probably that your path does not include everything for python to work properly.\n",
    "Talk with a chatbot and ask how to get all the items related to the successfull install of prstools on your path."
   ]
  },
  {
   "cell_type": "code",
   "execution_count": null,
   "id": "a70b275a",
   "metadata": {},
   "outputs": [],
   "source": []
  }
 ],
 "metadata": {
  "kernelspec": {
   "display_name": "Python 3 (ipykernel)",
   "language": "python",
   "name": "python3"
  },
  "language_info": {
   "codemirror_mode": {
    "name": "ipython",
    "version": 3
   },
   "file_extension": ".py",
   "mimetype": "text/x-python",
   "name": "python",
   "nbconvert_exporter": "python",
   "pygments_lexer": "ipython3",
   "version": "3.11.4"
  },
  "toc": {
   "base_numbering": 1,
   "nav_menu": {},
   "number_sections": true,
   "sideBar": true,
   "skip_h1_title": false,
   "title_cell": "Table of Contents",
   "title_sidebar": "Contents",
   "toc_cell": false,
   "toc_position": {
    "height": "calc(100% - 180px)",
    "left": "10px",
    "top": "150px",
    "width": "328.1px"
   },
   "toc_section_display": true,
   "toc_window_display": true
  }
 },
 "nbformat": 4,
 "nbformat_minor": 5
}
