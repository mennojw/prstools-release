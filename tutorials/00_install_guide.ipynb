{
 "cells": [
  {
   "cell_type": "code",
   "execution_count": null,
   "id": "2934e756",
   "metadata": {},
   "outputs": [],
   "source": []
  },
  {
   "cell_type": "code",
   "execution_count": null,
   "id": "2ee67b7c",
   "metadata": {},
   "outputs": [],
   "source": []
  },
  {
   "cell_type": "code",
   "execution_count": null,
   "id": "23a7c427",
   "metadata": {},
   "outputs": [],
   "source": []
  },
  {
   "cell_type": "markdown",
   "id": "5a8e2125",
   "metadata": {},
   "source": [
    "# Install Guide"
   ]
  },
  {
   "cell_type": "code",
   "execution_count": null,
   "id": "8b2c866b",
   "metadata": {},
   "outputs": [],
   "source": []
  },
  {
   "cell_type": "markdown",
   "id": "7e9170c9",
   "metadata": {},
   "source": [
    "<br>\n",
    "<div style=\"font-size:20px; line-height:1.4;\">\n",
    "    \n",
    "This guide is considers some of the most commonly encountered install issues, but not all install issues.\n",
    "If you still have install issues after this guide then please contact us.\n",
    "    \n",
    "Generally most install issues are caused by python3.8 or later not being installed propely.\n",
    "You can see the python version in your current environment by running `python -V`and it will not work if you do not have python at all.\n",
    "If your enviroment does not have the correct python you need to install it, but also mind that using already present python's if improperly installed\n",
    "and trying to work with those can lead to issues, that are more difficult to fix without quite some unix/programming experience.\n",
    "To install python check out the 'Install Python' section.\n",
    "\n",
    "Now, if the python version is sufficient and you also have `pip` and you were able to install `prstools` the issue is \n",
    "probably that your path does not include everything for python to work properly."
   ]
  },
  {
   "cell_type": "code",
   "execution_count": null,
   "id": "01a10bda",
   "metadata": {},
   "outputs": [],
   "source": []
  },
  {
   "cell_type": "markdown",
   "id": "4b332d5f",
   "metadata": {},
   "source": [
    "## Install Python"
   ]
  },
  {
   "cell_type": "markdown",
   "id": "20471f61",
   "metadata": {},
   "source": [
    "<br>\n",
    "<div style=\"font-size:20px; line-height:1.4;\">\n",
    "    \n",
    "There are several ways to install Python, but a great way to do it is using `conda`."
   ]
  },
  {
   "cell_type": "code",
   "execution_count": null,
   "id": "3adb190f",
   "metadata": {},
   "outputs": [],
   "source": []
  },
  {
   "cell_type": "code",
   "execution_count": null,
   "id": "bec94290",
   "metadata": {},
   "outputs": [],
   "source": []
  },
  {
   "cell_type": "code",
   "execution_count": null,
   "id": "167715c1",
   "metadata": {},
   "outputs": [],
   "source": []
  },
  {
   "cell_type": "markdown",
   "id": "2e7d02dc",
   "metadata": {},
   "source": [
    "## Issue: `pip install` not working."
   ]
  },
  {
   "cell_type": "code",
   "execution_count": null,
   "id": "15dff016",
   "metadata": {},
   "outputs": [],
   "source": []
  },
  {
   "cell_type": "code",
   "execution_count": null,
   "id": "7cea3768",
   "metadata": {},
   "outputs": [],
   "source": []
  },
  {
   "cell_type": "markdown",
   "id": "efdcd8a8",
   "metadata": {},
   "source": [
    "Common fixes:\n",
    "\n",
    "- Add `--user` to your command"
   ]
  },
  {
   "cell_type": "code",
   "execution_count": null,
   "id": "688cc5f7",
   "metadata": {},
   "outputs": [],
   "source": []
  },
  {
   "cell_type": "markdown",
   "id": "15ac01ee",
   "metadata": {},
   "source": [
    "## Issue: `pip install` worked, but prstools command not found."
   ]
  },
  {
   "cell_type": "code",
   "execution_count": null,
   "id": "ecf82018",
   "metadata": {},
   "outputs": [],
   "source": []
  },
  {
   "cell_type": "code",
   "execution_count": null,
   "id": "638a8175",
   "metadata": {},
   "outputs": [],
   "source": []
  }
 ],
 "metadata": {
  "kernelspec": {
   "display_name": "Python 3 (ipykernel)",
   "language": "python",
   "name": "python3"
  },
  "language_info": {
   "codemirror_mode": {
    "name": "ipython",
    "version": 3
   },
   "file_extension": ".py",
   "mimetype": "text/x-python",
   "name": "python",
   "nbconvert_exporter": "python",
   "pygments_lexer": "ipython3",
   "version": "3.11.4"
  },
  "toc": {
   "base_numbering": 1,
   "nav_menu": {},
   "number_sections": true,
   "sideBar": true,
   "skip_h1_title": false,
   "title_cell": "Table of Contents",
   "title_sidebar": "Contents",
   "toc_cell": false,
   "toc_position": {
    "height": "calc(100% - 180px)",
    "left": "10px",
    "top": "150px",
    "width": "328.1px"
   },
   "toc_section_display": true,
   "toc_window_display": true
  }
 },
 "nbformat": 4,
 "nbformat_minor": 5
}
