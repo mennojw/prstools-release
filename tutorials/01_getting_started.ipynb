{
 "cells": [
  {
   "cell_type": "code",
   "execution_count": 1,
   "id": "2ddb3a3f",
   "metadata": {},
   "outputs": [],
   "source": [
    "# You can ignore the stuff on the next lines, its related to making the formatting nicer.\n",
    "import os\n",
    "os.environ['COLUMNS'] = '110'"
   ]
  },
  {
   "cell_type": "markdown",
   "id": "b70ebbd1",
   "metadata": {},
   "source": [
    "# Getting Started\n",
    "\n",
    "<!-- [![Binder](https://mybinder.org/badge_logo.svg)](https://mybinder.org/v2/gh/mennowitteveen/pgsbenchmark/main?labpath=nbs/PPB-demonstration.ipynb) -->\n",
    "\n",
    "<br>\n",
    "<div style=\"font-size:20px; line-height:1.4;\">\n",
    "    \n",
    "<!-- [![Google Colab](https://colab.research.google.com/assets/colab-badge.svg)](https://colab.research.google.com/github/mennowitteveen/pgsbenchmark/blob/main/nbs/PPB-demonstration.ipynb) -->\n",
    "<!-- or if the Colab messages *\"Warning: This notebook was not authored by Google.\"* scared you, you can alternatively click the following button for a similar cloud experience (=slower though): -->\n",
    "<!-- [![Binder](https://mybinder.org/badge_logo.svg)](https://mybinder.org/v2/gh/mennojw/prstools-release/main?labpath=tutorials/01_getting_started.ipynb)  -->\n",
    "\n",
    "[![Google Colab](https://colab.research.google.com/assets/colab-badge.svg)](https://colab.research.google.com/github/mennojw/prstools-release/blob/main/tutorials/01_getting_started.ipynb)  <-- You can run exactly this notebook by clicking this button.\n",
    "\n",
    "<b> Notes: </b>\n",
    "  - **Remove the '!' in front of the command, if you are running it in a terminal/commandline.**\n",
    "  - **This tutorial was created for Linux/MacOS systems. The code works on windows, but examples here need to be changed somewhat**\n",
    "    \n",
    "Hi there! <br>\n",
    "\n",
    "This getting-started is part of the prstools tutorial that will let you\n",
    "generate polygenic risk scores in no time.\n",
    "It is basically\n",
    "\n",
    "`prstools` provides a powerfull and convenient way for your to create polygenic risk scores.\n",
    "It was created with python, but does not require you to have any python skills and it works mostly via the command line.\n",
    "When you do something with `prstools` you will get adequite and quick feedback on what is happening, \n",
    "and it tell you what you need to do to fix things if something goes wrong. Hence, it's ok to press enter often to see where things stand. The tool will let you know when things are missing and/or need to be fixed in a context dependent manner, in order to minimize busy-work [sighs]. Additionally, there are many checks happening behind the scence to make sure the inputs are right and that the creation of the PRS is happening correctly. This means that even the PRS-uninitialed can build powerfull polygenic risk scores in no time. For the ones who might be interested, prstools can also be used inside of a python environment and is designed for that.<br>\n",
    "Every `prstools` version has been tested and benchmarked before uploading.\n",
    "<!-- [various checks and context dependent warning and instructions to make sure PRSs are generated in the right way, \n",
    "    and minimize busy-work, so you can get on with your day.] -->\n",
    "\n",
    "This getting started guide is centered around examples showing you interactively how to use this tool using real data.\n",
    "There is also documentation that goes through what all things in the tool do (basically a web version of the commandline --help).\n",
    "    \n",
    "For this tutorial we will assume you ran `pip install -U prstools`, probably in a conda enviroment, and that that worked out just fine.\n",
    "If it did you should now be able to run the following basic example.<br>\n",
    "<br>\n",
    "<i>Note: If one uses !something in a jupyter notebook (like this one) this means you will be running a bash/commandline command (for instance !ls for a directory). </i>\n",
    "</div>"
   ]
  },
  {
   "cell_type": "code",
   "execution_count": 6,
   "id": "2ee01b62",
   "metadata": {},
   "outputs": [],
   "source": [
    "!pip install -U prstools # Run this line if you have not yet installed prstools (without '!' in front if in terminal)"
   ]
  },
  {
   "cell_type": "markdown",
   "id": "352b3005",
   "metadata": {},
   "source": [
    "## Basic Example\n",
    "\n",
    "<br>\n",
    "<div style=\"font-size:20px; line-height:1.4;\">\n",
    "   \n",
    "The first thing we will do is to type `prstools` in the command line which will give you the following output."
   ]
  },
  {
   "cell_type": "code",
   "execution_count": 7,
   "id": "cc77c9e3",
   "metadata": {},
   "outputs": [
    {
     "name": "stdout",
     "output_type": "stream",
     "text": [
      "\r\n",
      "Usage:\r\n",
      " prstools <command> \b \b ...\r\n",
      "\r\n",
      "Convenient and powerfull Polygenic Risk Score creation. \r\n",
      "'prst' is a commandline shorthand for 'prstools'\r\n",
      "\r\n",
      "Models & Utility Commands:\r\n",
      " <command> \b \b\r\n",
      "  downloadutil  Download and unpack LD reference panels and other data.\r\n",
      "  combine       A tool to combine genetics-related text files.\r\n",
      "  prscs2        PRS-CS v2: A polygenic prediction method that infers posterior SNP effect sizes under\r\n",
      "                continuous shrinkage (CS) priors.\r\n"
     ]
    }
   ],
   "source": [
    "!prstools # WARNING! Do not type the exclamation mark if your using normal commandline so just `prstools`"
   ]
  },
  {
   "cell_type": "markdown",
   "id": "051bb09d",
   "metadata": {},
   "source": [
    "<br>\n",
    "<div style=\"font-size:20px; line-height:1.4;\">\n",
    "    \n",
    "<!-- weird stuff has to be empty line here -->\n",
    "This is the base command of prstools. You can also type `prst` as a shorthand.\n",
    "We can type `prst prscs2` to access a new version for PRS-CS for us to generate PRSs with. For now you don't need to read all the stuff it outputs. It's to give you an overview.\n",
    "</div>"
   ]
  },
  {
   "cell_type": "code",
   "execution_count": 8,
   "id": "aac5d705",
   "metadata": {},
   "outputs": [
    {
     "name": "stdout",
     "output_type": "stream",
     "text": [
      "\r\n",
      "Usage:\r\n",
      " prst prscs2 [-h  --cpus <number-of-cpus>] --ref <dir/refcode> --target <bim-prefix> --sst <file>\r\n",
      "                   --out <dir+prefix> [--n_gwas <num>  --chrom <chroms>  --colmap <alternative_colnames>]\r\n",
      "                   [--pred  --n_iter <n_iter>  --n_burnin <n_burnin>  --n_slice <n_slice>]\r\n",
      "                   [--seed <seed>  --a <a>  --b <b>  --phi <phi>  --clip <clip>  --sampler <sampler>]\r\n",
      "                   [--n_jobs <n_jobs>]\r\n",
      "\r\n",
      "PRS-CS v2: A polygenic prediction method that infers posterior SNP effect sizes under continuous shrinkage (CS) priors.\r\n",
      "\r\n",
      "General Options:\r\n",
      " -h, --help                               Show this help message and exit.\r\n",
      " -c, --cpus <number-of-cpus>              The number of cpus to use. Generally most efficient if chosen to\r\n",
      "                                          be between 1 and 5. Functionality can be turned-off completely by\r\n",
      "                                          setting it to -1. (default: 1)\r\n",
      "\r\n",
      "Data Arguments (first 5 required):\r\n",
      " -r, --ref_dir, --ref <dir/refcode>       Path to the directory that contains the LD reference panel. You\r\n",
      "                                          can download this reference data manually with 'prstools\r\n",
      "                                          downloadref'. Soon it will be possible to automatically download\r\n",
      "                                          it on the fly. (required)\r\n",
      " -t, --bim_prefix, --target <bim-prefix>  Specify the directory and prefix of the bim file for the target\r\n",
      "                                          dataset. (required)\r\n",
      " -s, --sst_file, --sst <file>             The summary statistics file from which the model will be created.\r\n",
      "                                          The file should contain columns: SNP, A1, A2, BETA or OR, P or SE\r\n",
      "                                          information. At the moment, the file is assumed to be tab-\r\n",
      "                                          seperated, if you like other formats please let devs\r\n",
      "                                          know.Alternative column names can be specified with --columns\r\n",
      "                                          (more info below). SNP column should contain rsid's. See\r\n",
      "                                          \u001b[34mhttps://tinyurl.com/sstxampl\u001b[0m for an example. (required)\r\n",
      " -o, --out_dir, --out <dir+prefix>        Output prefix for the results (variant weights). This should be a\r\n",
      "                                          combination of the desired output dir and file prefix. (required)\r\n",
      " -n, --n_gwas <num>                       Sample size of the GWAS. Not required if sumstat has a 'N' column.\r\n",
      "                                          (default: None)\r\n",
      " --chrom <chroms>                         Optional: Select specific chromosome to work with. You can specify\r\n",
      "                                          a specific chromosome as e.g. \"--chrom 3\". All chromosomes are\r\n",
      "                                          used by default. (default: all)\r\n",
      " --colmap <alternative_colnames>          Optional: Allows one to specify an alterative column name for the\r\n",
      "                                          internally used columns snp,A1,A2,beta,or,pval,se_beta,n_eff (in\r\n",
      "                                          that order). Forinstance \"--colmap\r\n",
      "                                          rsid,a1,a2,beta_gwas,,pvalue,beta_standard_error,\" (OR & N are\r\n",
      "                                          excluded in this example). When the command is run a quick\r\n",
      "                                          this_column -> that_column conversion table will be shown.\r\n",
      "                                          Additionaly prstools has many internal checks to make sure a good\r\n",
      "                                          PRS will be generated! By default this is the PRS-CS standard.\r\n",
      "                                          (default: SNP,A1,A2,BETA,OR,P,SE,N)\r\n",
      " --pred, -p                               Optional: Add this argument to predict the PRS for the induviduals\r\n",
      "                                          in the target dataset.\r\n",
      "\r\n",
      "Model Arguments (all optional):\r\n",
      " --n_iter <n_iter>                        Total number of MCMC iterations. (default: 1000)\r\n",
      " --n_burnin <n_burnin>                    Number of burn-in iterations if larger than 1 or fraction of\r\n",
      "                                          n_iter if smaller then 1. (default: 0.5)\r\n",
      " --n_slice <n_slice>                      Thinning of the Markov chain. (default: 1)\r\n",
      " --seed <seed>                            Random seed for reproducibility. (default: -1)\r\n",
      " --a <a>                                  Parameter a in the gamma-gamma prior. (default: 1.0)\r\n",
      " --b <b>                                  Parameter b in the gamma-gamma prior. (default: 0.5)\r\n",
      " --phi <phi>                              Global shrinkage parameter phi. If phi is not specified, it will\r\n",
      "                                          be learnt from the data using a Bayesian approach (default: -1.0)\r\n",
      " --clip <clip>                            Clip parameter. The default works best in pretty much all cases.\r\n",
      "                                          (default: 1.0)\r\n",
      " --sampler <sampler>                      Sampler algorithm. Rue sampling is the original sampler, which\r\n",
      "                                          gives good results. (default: Rue)\r\n",
      " --n_jobs <n_jobs>                        This sets the number of jobs for parallel processing. (default: 4)\r\n",
      "\r\n",
      "Examples --> can be directly copy-pasted (:\r\n",
      " prst downloadutil --pattern example --destdir ./; cd example                                                \u001b[32m# Makes 'example' dir in current path.\u001b[0m\r\n",
      " prstools prscs2 --ref ldref_1kg_pop --target target --sst sumstats.tsv --n_gwas 2565 --out ./result-prscs2 \u001b[32m# Run the model with example data.\u001b[0m\r\n",
      " prst prscs2 -r ldref_1kg_pop -t target -s sumstats.tsv -n 2565 -o ./result-prscs2 --pred                  \u001b[32m# A shorter version of previous that also does the predictions.\u001b[0m\r\n"
     ]
    }
   ],
   "source": [
    "!prst prscs2 # WARNING! Remove the !"
   ]
  },
  {
   "cell_type": "markdown",
   "id": "999e0f0b",
   "metadata": {},
   "source": [
    "<br>\n",
    "<div style=\"font-size:20px; line-height:1.4;\"> \n",
    "    \n",
    "This printed the help of the `prscs2` model and it is quite a bunch of stuff, but before we look into all the special things we can do, it's important to\n",
    "see that there are 3 types of arguments; **General, Data** and **Model** arguments. General and Model are not nessicary, but optional arguments.\n",
    "The nessicary ones are the **Data arguments**. To see how to use them we are going to look at an example, which\n",
    "is convenently located at the bottom of the help output. Now, before we can do anything we need some of data to do things with.\n",
    "For this we will run:    "
   ]
  },
  {
   "cell_type": "code",
   "execution_count": null,
   "id": "217de572",
   "metadata": {},
   "outputs": [],
   "source": []
  },
  {
   "cell_type": "code",
   "execution_count": 11,
   "id": "c01c9722",
   "metadata": {},
   "outputs": [
    {
     "name": "stdout",
     "output_type": "stream",
     "text": [
      "\n",
      "A pattern was used, which matched the following files:\n",
      "example.tar.gz\n",
      "\n",
      "Downloading LD reference data, which might take some time. Data will be stored in: ./\n",
      "example.tar.gz        : 100%|\u001b[32m███████████████████████████████████\u001b[0m| 1.83M/1.83M [00:01<00:00, 1.43MB/s]\u001b[0m\n",
      "\n",
      "Finished downloading all LD data. Now we need to unpack all the tar.gz files (takes some time to start):\n",
      "Extracting: 100%|\u001b[32m████████████████████████\u001b[0m| 40/40 [00:00<00:00, 130.32it/s, file=./example/ldref_1kg_pop/snpinfo_1kg_hm3]\u001b[0m\n",
      "Deleting the following files: example.tar.gz, \n",
      "Completely done with downloading & unpacking\n",
      "\n",
      "/home/jovyan/proj/repos/prstools/tutorials/example\n"
     ]
    }
   ],
   "source": [
    "!prst downloadutil --pattern example --destdir ./; cd example\n",
    "# Comment: You only have to the next line if you are using a jupyter notebook, but if you copy everything its gonna be ok too.\n",
    "%cd example"
   ]
  },
  {
   "cell_type": "markdown",
   "id": "922aeb72",
   "metadata": {},
   "source": [
    "<br>\n",
    "<div style=\"font-size:20px; line-height:1.4;\">\n",
    "This downloaded the example data and moved to the directory 'example'. If any of it fails there is information on how to do it manually in the 'Manual download' section below.\n",
    "Let's have a look what's inside the example data folder."
   ]
  },
  {
   "cell_type": "code",
   "execution_count": 12,
   "id": "830c593f",
   "metadata": {},
   "outputs": [
    {
     "name": "stdout",
     "output_type": "stream",
     "text": [
      "ldgm_1kg_pop  ldref_1kg_pop  sumstats.tsv  target.bed  target.bim  target.fam\r\n"
     ]
    }
   ],
   "source": [
    "!ls"
   ]
  },
  {
   "cell_type": "code",
   "execution_count": null,
   "id": "1056ede5",
   "metadata": {},
   "outputs": [],
   "source": []
  },
  {
   "cell_type": "markdown",
   "id": "acc42beb",
   "metadata": {},
   "source": [
    "<br>\n",
    "<div style=\"font-size:20px; line-height:1.4;\">\n",
    "What we have here are: <br>\n",
    "    \n",
    "- Two example LD references: `ldgm_1kg_pop` & `ldref_1kg_pop`\n",
    "- Target dataset in plink format:  `target.{bed/bim/fam}`\n",
    "- GWAS sumstat: `sumstats.tsv`\n",
    "\n",
    "Together with the GWAS sample size (N=2565, specified with `--n_gwas`), we now have all the inputs we need to create a PRS.\n",
    "In addition the inputs, we only need to tell the tool where we would like our outputs to be stored.\n",
    "We can do this with the `--out` option. This is where the PRS weights will be stored. Lastly, if we would like a PRS prediction for the target in addition the weights we can add the `--pred` flag (Note: It can also be done manually using plink described in a section below).\n",
    "Combining everything gives use the following command which we will now run.\n",
    "</div>"
   ]
  },
  {
   "cell_type": "code",
   "execution_count": 13,
   "id": "a651c6eb",
   "metadata": {},
   "outputs": [
    {
     "name": "stdout",
     "output_type": "stream",
     "text": [
      "PRSTOOLS v0.0.31 (18-02-2025)\n",
      "Running command: prscs2\n",
      "Options in effect:\n",
      "  --ref ldref_1kg_pop\n",
      "  --target target\n",
      "  --sst sumstats.tsv\n",
      "  --out ./result-prscs2\n",
      "  --n_gwas 2565\n",
      "  --pred \n",
      "\n",
      "Hostname:          45c1c31b873a\n",
      "Working directory: /home/jovyan/proj/repos/prstools/tutorials/example\n",
      "Start time:        Thu, 02 Oct 2025 22:46:56 \n",
      "Random seed:       1759445216\n",
      "Number of workers: 4 [--n_jobs]\n",
      "Number of cpus:    1 (per worker)\n",
      " \n",
      "Loading sumstat file.   ->          947 variants sumstat loaded.\n",
      "Loading target file.    ->          947 variants bim file loaded (used pyarrow).\n",
      "Creating snp register for efficient operations (only once)[snpinfo_1kg_hm3] @ ldref_1kg_pop/snpregister.tsv -> Done\n",
      "Loading reference file. ->          936 variants loaded.\n",
      "Matching sumstat & reference & target. -> 936 common variants after matching reference (100.0% incl.), target (98.8% incl.) and sumstat (98.8% incl.).\n",
      "Computed beta marginal (=X'y/n) from sumstat using p-values and the sign of beta and sample size \n",
      "\n",
      "Starting iterations of model(s):\n",
      "100%|\u001b[32m██████████████████████████████████████████████████████████████████████\u001b[0m| 1000/1000 [00:39<00:00, 25.37it/s]\u001b[0m\n",
      "Saving model weights (filetype=prstweights.tsv) to: ./result-prscs2_.prstweights.tsv -> Done\n",
      "\n",
      "Loading plink files (@ target). Predicting phenotypes i.e. generating PRS (in chucks of 1000 snps).\n",
      "100%|\u001b[38;2;127;0;255m██████████████████████████████████████████████████████████████████████\u001b[0m| 1/1 [00:00<00:00, 10.60it/s]\u001b[0m\n",
      "Saving prediction (i.e. PRS) to: ./result-prscs2_.prspred.tsv -> Done\n",
      "\n",
      "End time: Thu, 02 Oct 2025 22:47:39  -  Completed in 0h, 0m and 43s\n"
     ]
    }
   ],
   "source": [
    "!prstools prscs2 --ref ldref_1kg_pop --target target.bim --sst sumstats.tsv --n_gwas 2565 --out ./result-prscs2 -p"
   ]
  },
  {
   "cell_type": "code",
   "execution_count": null,
   "id": "cb065fef",
   "metadata": {},
   "outputs": [],
   "source": [
    "%cd .."
   ]
  },
  {
   "cell_type": "markdown",
   "id": "1f7a181e",
   "metadata": {},
   "source": [
    "<br>\n",
    "<div style=\"font-size:20px; line-height:1.4;\">\n",
    "A good thing to know is that for the target file we could have also specified `target.bed`, `target.fam` or `target`. All these will work since the software determines on its own where the relevant files are.\n",
    "Now, we have stored the PRS weights and already computed the polygenic risk scores for our target plink dataset. Lets have a look!\n",
    "\n",
    "</div>"
   ]
  },
  {
   "cell_type": "code",
   "execution_count": 16,
   "id": "ff234684",
   "metadata": {},
   "outputs": [
    {
     "name": "stdout",
     "output_type": "stream",
     "text": [
      "ldgm_1kg_pop   result-prscs2_.prspred.tsv      sumstats.tsv  target.bim\n",
      "ldref_1kg_pop  result-prscs2_.prstweights.tsv  target.bed    target.fam\n",
      "==> result-prscs2_.prspred.tsv <==\n",
      "fid\tiid\tprs\n",
      "5\t5\t0.2751176357269287\n",
      "8\t8\t0.42913275957107544\n",
      "9\t9\t0.41239479184150696\n",
      "\n",
      "==> result-prscs2_.prstweights.tsv <==\n",
      "chrom\tsnp\tpos\tA1\tA2\tallele_weight\n",
      "22\trs5747999\t17075353\tC\tA\t-0.003970123524139204\n",
      "22\trs874836\t17301843\tA\tG\t0.0007087665216776075\n",
      "22\trs7293026\t17398800\tT\tC\t-0.0010396795388768344\n"
     ]
    }
   ],
   "source": [
    "!ls\n",
    "!head -4 result* # Let's run this the see whats in the result files"
   ]
  },
  {
   "cell_type": "markdown",
   "id": "2be913ac",
   "metadata": {},
   "source": [
    "<br>\n",
    "<div style=\"font-size:20px; line-height:1.4;\">\n",
    "\n",
    "So we have the weights for the SNPs and the PRS itself with the fid and iid matched. \n",
    "This last bit you don't have to follow along, but I will just show you that one can also use plink\n",
    "on these weight files and that it gives the same PRS result:\n",
    "\n",
    "</div>"
   ]
  },
  {
   "cell_type": "code",
   "execution_count": 17,
   "id": "6793a39a",
   "metadata": {},
   "outputs": [
    {
     "name": "stdout",
     "output_type": "stream",
     "text": [
      "PLINK v1.90b7 64-bit (16 Jan 2023)             www.cog-genomics.org/plink/1.9/\n",
      "(C) 2005-2023 Shaun Purcell, Christopher Chang   GNU General Public License v3\n",
      "Logging to prspred.log.\n",
      "Options in effect:\n",
      "  --bfile target\n",
      "  --keep-allele-order\n",
      "  --out prspred\n",
      "  --score ./result-prscs2_.prstweights.tsv 2 4 6 sum\n",
      "\n",
      "7939 MB RAM detected; reserving 3969 MB for main workspace.\n",
      "947 variants loaded from .bim file.\n",
      "4275 people (2101 males, 1988 females, 186 ambiguous) loaded from .fam.\n",
      "Ambiguous sex IDs written to prspred.nosex .\n",
      "Using 1 thread (no multithreaded calculations invoked).\n",
      "Before main variant filters, 4275 founders and 0 nonfounders present.\n",
      "Calculating allele frequencies... 10111213141516171819202122232425262728293031323334353637383940414243444546474849505152535455565758596061626364656667686970717273747576777879808182838485868788899091929394959697989 done.\n",
      "Total genotyping rate is exactly 1.\n",
      "947 variants and 4275 people pass filters and QC.\n",
      "Note: No phenotypes present.\n",
      "Warning: 1 line skipped in --score file (1 due to variant ID mismatch, 0 due to\n",
      "allele code mismatch); see prspred.nopred for details.\n",
      "--score: 936 valid predictors loaded.\n",
      "--score: Results written to prspred.profile .\n"
     ]
    }
   ],
   "source": [
    "!plink --bfile target --out prspred --keep-allele-order --score ./result-*prstweights.tsv 2 4 6 sum"
   ]
  },
  {
   "cell_type": "code",
   "execution_count": 20,
   "id": "61b4e1f2",
   "metadata": {},
   "outputs": [
    {
     "name": "stdout",
     "output_type": "stream",
     "text": [
      " FID  IID  PHENO    CNT   CNT2 SCORESUM\r\n",
      "   5    5     -9   1872    529 0.275118\r\n",
      "   8    8     -9   1872    569 0.429133\r\n",
      "   9    9     -9   1872    553 0.412395\r\n"
     ]
    }
   ],
   "source": [
    "!head -4 prspred.profile"
   ]
  },
  {
   "cell_type": "markdown",
   "id": "1e7aa885",
   "metadata": {},
   "source": [
    "<div style=\"font-size:20px; line-height:1.4;\">\n",
    "\n",
    "As we can see the plink result in the column SCORESUM neatly matches the earlier computed PRS.\n",
    "\n",
    "With this we have a basic understand of how to use prstools. In the next section, we go through a brief case study that shows how to use prstools in realworld scenario and will show\n",
    "you some tricks that you can do with prstools that can greatly speedup your workflow.\n",
    "<br>\n",
    "</div>"
   ]
  },
  {
   "cell_type": "code",
   "execution_count": 23,
   "id": "e81e1a8b",
   "metadata": {},
   "outputs": [
    {
     "name": "stdout",
     "output_type": "stream",
     "text": [
      "/home/jovyan/proj/repos/prstools/tutorials\n"
     ]
    }
   ],
   "source": [
    "%cd ..\n",
    "#!rm -r example"
   ]
  },
  {
   "cell_type": "markdown",
   "id": "42cd2c2d",
   "metadata": {},
   "source": [
    "## Case Study A - Getting a Sumstat from GWAS Catalog and predicting into 1KG"
   ]
  },
  {
   "cell_type": "markdown",
   "id": "99cacb55",
   "metadata": {},
   "source": [
    "<br>\n",
    "<div style=\"font-size:20px; line-height:1.4;\">\n",
    "    \n",
    "The previous basic example, although insightful, does not provide a sense of how to use prstools in a more realistic case.<br>\n",
    "Therefore, we will now download a GWAS sumstat from GWAS catalog and train an example model and predict into the 1000 Genomes cohort for which\n",
    "we will also download the relevant data. <br>\n",
    "First we create a case study directory to which we can download our data:\n"
   ]
  },
  {
   "cell_type": "code",
   "execution_count": 4,
   "id": "832f2393",
   "metadata": {},
   "outputs": [
    {
     "name": "stdout",
     "output_type": "stream",
     "text": [
      "/home/jovyan/proj/repos/prstools/tutorials/casestudy-a\n",
      "/home/jovyan/proj/repos/prstools/tutorials/casestudy-a/casestudy-a\n"
     ]
    }
   ],
   "source": [
    "!pwd\n",
    "# !rm -r casestudy-a\n",
    "!mkdir casestudy-a\n",
    "%cd casestudy-a"
   ]
  },
  {
   "cell_type": "markdown",
   "id": "e1f5da27",
   "metadata": {},
   "source": [
    "### Get a GWAS Sumstat from GWAS Catalog"
   ]
  },
  {
   "cell_type": "code",
   "execution_count": null,
   "id": "9c582d4c",
   "metadata": {},
   "outputs": [],
   "source": []
  },
  {
   "cell_type": "markdown",
   "id": "e788deb7",
   "metadata": {},
   "source": [
    "<br>\n",
    "<div style=\"font-size:20px; line-height:1.4;\">\n",
    "    \n",
    "Then we find this GWAS sumstat for height on GWAS Catalog:\n",
    "    "
   ]
  },
  {
   "cell_type": "code",
   "execution_count": 32,
   "id": "56ec1fb3",
   "metadata": {},
   "outputs": [
    {
     "name": "stdout",
     "output_type": "stream",
     "text": [
      "--2025-10-02 23:34:21--  https://ftp.ebi.ac.uk/pub/databases/gwas/summary_statistics/GCST90245001-GCST90246000/GCST90245992/harmonised/GCST90245992.h.tsv.gz\n",
      "Resolving ftp.ebi.ac.uk (ftp.ebi.ac.uk)... 193.62.193.165\n",
      "Connecting to ftp.ebi.ac.uk (ftp.ebi.ac.uk)|193.62.193.165|:443... connected.\n",
      "HTTP request sent, awaiting response... 200 OK\n",
      "Length: 39622810 (38M) [application/x-gzip]\n",
      "Saving to: ‘GCST90245992.h.tsv.gz’\n",
      "\n",
      "GCST90245992.h.tsv. 100%[===================>]  37.79M   903KB/s    in 22s     \n",
      "\n",
      "2025-10-02 23:34:44 (1.70 MB/s) - ‘GCST90245992.h.tsv.gz’ saved [39622810/39622810]\n",
      "\n"
     ]
    }
   ],
   "source": [
    "!wget https://ftp.ebi.ac.uk/pub/databases/gwas/summary_statistics/GCST90245001-GCST90246000/GCST90245992/harmonised/GCST90245992.h.tsv.gz"
   ]
  },
  {
   "cell_type": "markdown",
   "id": "25c2e89d",
   "metadata": {},
   "source": [
    "<br>\n",
    "<div style=\"font-size:20px; line-height:1.4;\">\n",
    "    \n",
    "From the GWAS Catalog site we learned that this sumstat is from a European population and the sample size is 1,597,374, which is information we need later. <br>\n",
    "When we have a quick peak into the file we can see it is still compressed and not directly readable, but will address this shortly."
   ]
  },
  {
   "cell_type": "code",
   "execution_count": 33,
   "id": "83a9675a",
   "metadata": {},
   "outputs": [
    {
     "name": "stdout",
     "output_type": "stream",
     "text": [
      "\u001f�\b\u0004\u0000\u0000\u0000\u0000\u0000�\u0006\u0000BC\u0002\u0000�ZlZ�ndG\u000e<�\u0001�S,��܎�\u000f���\u000b",
      "rw\u0019n�-yԲ���� �KU�\u0001�T|zQ�L2���?���|������������������>�||}{�n��~����������z����>?�v�x����~yy��|{{������o��������_���|��v�����������������oo�_���|����?����R}��v�ӗ�+^5G\u0019��t�r�\u0014���s�\u0017~�#�GH\u001d",
      "?R�\u0011��O����Ur\u001b��+�-&`\u001b�����)֖\u000b",
      "\u0001bR�\u0010����C*x1�$��v��\u0011\u0017�\u0014\u001b�\b=]?_�*��R\u0007�����u���^+_L�J\u000f�\u0002�(y\u0003���=�,\u0011p?ے�H��7+Ĵz�r�q�t�XFN\u000b",
      "�ņ�{H\u000b",
      "/����\u000b",
      "�*��\u00162����\u0016��P��#�ሣ\b4��`$�8�\u0010�D,[zYob�a��\u001f�hJ�\t��1��r\r\n",
      "~�y�v\t��Gz�\u0011����%I>��Ċ�s�\u0005�ciRb�5\u000e��A?��J�\u0003�7�E�\u0014iw'�\u0007�)1bk��O�\t�m��S(��\u0003��$���\u0013֭/�P:t#)��~\\n�y�\u001d",
      "�n=�\u001e",
      "ŕ��4\t�S\u0015\"B��F�O)X�Bt�\u0002¾Cغ\f",
      "�]�CȤ�2\u0006\u0011G�i�όPB�8��\u000e�t�\"VX`��&bέ֤x9,�(1w�\r",
      "G\u0002�\u0002/�6�\u000f��x#��\r\n"
     ]
    }
   ],
   "source": [
    "!head -2 GCST90245992.h.tsv.gz"
   ]
  },
  {
   "cell_type": "markdown",
   "id": "b5c69596",
   "metadata": {},
   "source": [
    "<!-- leave empty line -->\n",
    " \n",
    "### Get the relevant LD reference"
   ]
  },
  {
   "cell_type": "code",
   "execution_count": 37,
   "id": "dfd9172f",
   "metadata": {},
   "outputs": [
    {
     "name": "stdout",
     "output_type": "stream",
     "text": [
      "\r\n",
      "Usage:\r\n",
      " prst downloadutil [-h  --destdir <destdir>  --pattern <pattern>  --list  --keeptar]\r\n",
      "\r\n",
      "Download and unpack LD reference panels and other data.\r\n",
      "The files that can be downloaded and unpacked with this command includes the standard reference files for PRS-CS and PRS-CSx.\r\n",
      "Additional information can be found at https://github.com/getian107/PRScsx\r\n",
      "\r\n",
      "Options:\r\n",
      " -h, --help           Show this help message and exit.\r\n",
      " --destdir <destdir>  Directory in which all the data will be downloaded. Option required if you want the\r\n",
      "                      download to start.\r\n",
      " --pattern <pattern>  A string pattern that retrieves every file that it matches. Matches everything by\r\n",
      "                      default. Without --destdir option (required to start downloading) one can see which\r\n",
      "                      files get matched. (default: ALL)\r\n",
      " --list               Show which files can optionally be downloaded and exit.\r\n",
      " --keeptar            Keep the tar.gz files in the destdir. If this option is not given they will be deleted\r\n",
      "                      automatically to save space.\r\n"
     ]
    }
   ],
   "source": [
    "!prst downloadutil"
   ]
  },
  {
   "cell_type": "code",
   "execution_count": 36,
   "id": "1643756f",
   "metadata": {},
   "outputs": [
    {
     "name": "stdout",
     "output_type": "stream",
     "text": [
      "\n",
      "Files available for downloading & unpacking:\n",
      "\n",
      "filename              description                                         url                                                                                                               \n",
      " snpinfo_mult_1kg_hm3 1000G multi-ancestry SNP info (for PRS-CSx) (~106M)                                                https://www.dropbox.com/s/rhi806sstvppzzz/snpinfo_mult_1kg_hm3?dl=1\n",
      "snpinfo_mult_ukbb_hm3  UKBB multi-ancestry SNP info (for PRS-CSx) (~108M)                                               https://www.dropbox.com/s/oyn5trwtuei27qj/snpinfo_mult_ukbb_hm3?dl=1\n",
      " ldblk_1kg_afr.tar.gz              1000G AFR Population LD panel (~4.44G)                                                https://www.dropbox.com/s/mq94h1q9uuhun1h/ldblk_1kg_afr.tar.gz?dl=1\n",
      " ldblk_1kg_amr.tar.gz              1000G AMR Population LD panel (~3.84G)                                                https://www.dropbox.com/s/uv5ydr4uv528lca/ldblk_1kg_amr.tar.gz?dl=1\n",
      " ldblk_1kg_eas.tar.gz              1000G EAS Population LD panel (~4.33G)                                                https://www.dropbox.com/s/7ek4lwwf2b7f749/ldblk_1kg_eas.tar.gz?dl=1\n",
      " ldblk_1kg_eur.tar.gz              1000G EUR Population LD panel (~4.56G)                                                https://www.dropbox.com/s/mt6var0z96vb6fv/ldblk_1kg_eur.tar.gz?dl=1\n",
      " ldblk_1kg_sas.tar.gz              1000G SAS Population LD panel (~5.60G)                                                https://www.dropbox.com/s/hsm0qwgyixswdcv/ldblk_1kg_sas.tar.gz?dl=1\n",
      "ldblk_ukbb_afr.tar.gz               UKBB AFR Population LD panel (~4.93G)                                               https://www.dropbox.com/s/dtccsidwlb6pbtv/ldblk_ukbb_afr.tar.gz?dl=1\n",
      "ldblk_ukbb_amr.tar.gz               UKBB AMR Population LD panel (~4.10G)                                               https://www.dropbox.com/s/y7ruj364buprkl6/ldblk_ukbb_amr.tar.gz?dl=1\n",
      "ldblk_ukbb_eas.tar.gz               UKBB EAS Population LD panel (~5.80G)                                               https://www.dropbox.com/s/fz0y3tb9kayw8oq/ldblk_ukbb_eas.tar.gz?dl=1\n",
      "ldblk_ukbb_eur.tar.gz               UKBB EUR Population LD panel (~6.25G)                                               https://www.dropbox.com/s/t9opx2ty6ucrpib/ldblk_ukbb_eur.tar.gz?dl=1\n",
      "ldblk_ukbb_sas.tar.gz               UKBB SAS Population LD panel (~7.37G)                                               https://www.dropbox.com/s/nto6gdajq8qfhh0/ldblk_ukbb_sas.tar.gz?dl=1\n",
      "       example.tar.gz                        PRSTOOLS Example data (3.8M)           https://www.dropbox.com/scl/fi/yi6lpbp0uhqiepayixvtj/example.tar.gz?rlkey=kvd7r17wuory9ucqdk4rh55jw&dl=1\n",
      "         g1000.tar.gz      European 1kg plink dataset for hapmap3 (~209M) https://www.dropbox.com/scl/fi/97lsbtoomhti3q6x2wttf/g1000.tar.gz?rlkey=9hd85oytgnpv6wvbapvu2rk2m&st=3k4fq9ub&dl=1\n"
     ]
    }
   ],
   "source": [
    "!prst downloadutil --list"
   ]
  },
  {
   "cell_type": "markdown",
   "id": "c543c44e",
   "metadata": {},
   "source": [
    "<br>\n",
    "<div style=\"font-size:20px; line-height:1.4;\">\n",
    "\n",
    "We can use `downloadutil` to download and unpack the European LD reference. By adding a pattern and a destdir we can start the download."
   ]
  },
  {
   "cell_type": "code",
   "execution_count": 38,
   "id": "e1192173",
   "metadata": {},
   "outputs": [
    {
     "name": "stdout",
     "output_type": "stream",
     "text": [
      "\n",
      "A pattern was used, which matched the following files:\n",
      "ldblk_1kg_eur.tar.gz\n",
      "\n",
      "Downloading LD reference data, which might take some time. Data will be stored in: ./\n",
      "ldblk_1kg_eur.tar.gz  : 100%|\u001b[32m███████████████████████████████████\u001b[0m| 4.56G/4.56G [07:07<00:00, 10.7MB/s]\u001b[0m    \n",
      "\n",
      "Finished downloading all LD data. Now we need to unpack all the tar.gz files (takes some time to start):\n",
      "Extracting: 100%|\u001b[32m███████████████████████████████████\u001b[0m| 24/24 [02:36<00:00,  6.52s/it, file=ldblk_1kg_eur/snpinfo_1kg_hm3]\u001b[0m\n",
      "Deleting the following files: ldblk_1kg_eur.tar.gz, \n",
      "Completely done with downloading & unpacking\n",
      "\n"
     ]
    }
   ],
   "source": [
    "!prst downloadutil --pattern 1kg_eur --destdir ./"
   ]
  },
  {
   "cell_type": "markdown",
   "id": "a37ad9f2",
   "metadata": {},
   "source": [
    "<!-- leave empty line -->\n",
    "\n",
    "### Download a target dataset: 1KG"
   ]
  },
  {
   "cell_type": "markdown",
   "id": "2902416e",
   "metadata": {},
   "source": [
    "<div style=\"font-size:20px; line-height:1.4;\">\n",
    "    \n",
    "In addition to the LD reference data we will also be needed a target dataset, for this we will use a EUR 1000 Genomes dataset which can be downloaded with:"
   ]
  },
  {
   "cell_type": "code",
   "execution_count": 39,
   "id": "a021da8d",
   "metadata": {},
   "outputs": [
    {
     "name": "stdout",
     "output_type": "stream",
     "text": [
      "\n",
      "A pattern was used, which matched the following files:\n",
      "g1000.tar.gz\n",
      "\n",
      "Downloading LD reference data, which might take some time. Data will be stored in: ./\n",
      "g1000.tar.gz          : 100%|\u001b[32m███████████████████████████████████\u001b[0m| 64.0M/64.0M [00:05<00:00, 10.9MB/s]\u001b[0m  \n",
      "\n",
      "Finished downloading all LD data. Now we need to unpack all the tar.gz files (takes some time to start):\n",
      "Extracting: 100%|\u001b[32m███████████████████████████████████████████████████\u001b[0m| 4/4 [00:06<00:00,  1.61s/it, file=g1000/g1000.bed]\u001b[0m\n",
      "Deleting the following files: g1000.tar.gz, \n",
      "Completely done with downloading & unpacking\n",
      "\n"
     ]
    }
   ],
   "source": [
    "!prst downloadutil --pattern g1000 --destdir ./"
   ]
  },
  {
   "cell_type": "markdown",
   "id": "931d5c57",
   "metadata": {},
   "source": [
    "### Combining Everything and creating a model"
   ]
  },
  {
   "cell_type": "markdown",
   "id": "25c71ec8",
   "metadata": {},
   "source": [
    "<div style=\"font-size:20px; line-height:1.4;\">\n",
    "    \n",
    "Let's see what we have gathered in our case study directory:"
   ]
  },
  {
   "cell_type": "code",
   "execution_count": 41,
   "id": "c696f4d3",
   "metadata": {},
   "outputs": [
    {
     "name": "stdout",
     "output_type": "stream",
     "text": [
      "g1000  GCST90245992.h.tsv.gz  ldblk_1kg_eur\r\n"
     ]
    }
   ],
   "source": [
    "!ls"
   ]
  },
  {
   "cell_type": "code",
   "execution_count": 44,
   "id": "75ce034f",
   "metadata": {},
   "outputs": [
    {
     "name": "stdout",
     "output_type": "stream",
     "text": [
      "g1000.bed  g1000.bim  g1000.fam\r\n"
     ]
    }
   ],
   "source": [
    "!ls g1000"
   ]
  },
  {
   "cell_type": "markdown",
   "id": "9abd832d",
   "metadata": {},
   "source": [
    "<div style=\"font-size:20px; line-height:1.4;\">\n",
    "    \n",
    "Now we have everything we need, and we can feed these inputs to prstools to create the PRS. In the command below we make use of the escape character `\\` which allow you to write a command on multiple lines, which the commandline interface will interpret it as one single line. Usefull in many cases! See that we added a --pred at the end, since we want to immediately generate the PRS for our target dataset."
   ]
  },
  {
   "cell_type": "code",
   "execution_count": 94,
   "id": "220a2ba1",
   "metadata": {},
   "outputs": [
    {
     "name": "stdout",
     "output_type": "stream",
     "text": [
      "PRSTOOLS v0.0.31 (18-02-2025)\n",
      "Running command: prscs2\n",
      "Options in effect:\n",
      "  --ref ./ldblk_1kg_eur/\n",
      "  --target /home/jovyan/proj/data/g1000/g1000_hm3_eur\n",
      "  --sst GCST90245992.h.tsv.gz\n",
      "  --out ./prscs2_\n",
      "  --n_gwas 1597374\n",
      "  --pred \n",
      "\n",
      "Hostname:          45c1c31b873a\n",
      "Working directory: /home/jovyan/proj/repos/prstools/tutorials/casestudy-a\n",
      "Start time:        Mon, 29 Sep 2025 20:35:38 \n",
      "Random seed:       1759178138\n",
      "Number of workers: 4 [--n_jobs]\n",
      "Number of cpus:    1\n",
      " \n",
      "/home/jovyan/proj/repos/prstools/prstools/models/_base.py:215: UserWarning: \u001b[1;31mWARNING: ./prscs2__.prstweights.tsv already exists! If you let this code finish, it will be overwritten.\u001b[0m\n",
      "  warnings.warn(msg)\n",
      "Loading sumstat file. Current --colmap is SNP,A1,A2,BETA,OR,P,SE,N. This is the default. The colmap argument should list the column names as they appear in your input file. For instance --colmap rsid,Allele1,Allele2,BETA,,Pval,StdErr,Ntotal. Mind that not all positions need to have a column name and can be left empty. With this example colmap we will get the following column mapping:\n",
      "[colmap column-name conversions:  rsid -> SNP, Allele1 -> A1, Allele2 -> A2, Pval -> P, StdErr -> SE, Ntotal -> N ]\n",
      "Also, if the conversion column name is not present in the input file it will just be skipped.\n",
      "\n",
      "ERROR WITH INPUT (reason at the end) - This is what the currently loaded top-rows of dataframe/sumstat looks like after colmap'ing (using --colmap, if supplied)(frame is transposed, to make it easier to view):\n",
      "                                                         row0  ...        row2\n",
      "original_columns         current_columns                      ...            \n",
      "chromosome               chromosome                        1  ...           1\n",
      "base_pair_location       base_pair_location           631495  ...      799082\n",
      "effect_allele            effect_allele                     T  ...           A\n",
      "other_allele             other_allele                      C  ...           G\n",
      "beta                     beta                      -0.046316  ...    0.004657\n",
      "standard_error           standard_error               0.0393  ...       0.011\n",
      "effect_allele_frequency  effect_allele_frequency      0.0028  ...       0.893\n",
      "p_value                  p_value                    0.238128  ...    0.672866\n",
      "variant_id               variant_id                rs2185539  ...  rs12564807\n",
      "n                        n                            537968  ...      112953\n",
      "hm_coordinate_conversion hm_coordinate_conversion         rs  ...          rs\n",
      "hm_code                  hm_code                          10  ...          10\n",
      "rsid                     rsid                      rs2185539  ...  rs12564807\n",
      "\n",
      "[13 rows x 3 columns]\n",
      "\n",
      "\n",
      "Traceback (most recent call last):\n",
      "  File \"/opt/conda/bin/prst\", line 33, in <module>\n",
      "    sys.exit(load_entry_point('prstools', 'console_scripts', 'prst')())\n",
      "             ^^^^^^^^^^^^^^^^^^^^^^^^^^^^^^^^^^^^^^^^^^^^^^^^^^^^^^^^^\n",
      "  File \"/home/jovyan/proj/repos/prstools/prstools/_cmd.py\", line 323, in main\n",
      "    result = args.func(**args_dt)\n",
      "             ^^^^^^^^^^^^^^^^^^^^\n",
      "  File \"/home/jovyan/proj/repos/prstools/prstools/_cmd.py\", line 31, in pipefun\n",
      "    return getattr(cls,methodname)(*args,**kwargs)\n",
      "           ^^^^^^^^^^^^^^^^^^^^^^^^^^^^^^^^^^^^^^^\n",
      "  File \"/home/jovyan/proj/repos/prstools/prstools/models/_base.py\", line 167, in from_cli_params_and_run\n",
      "    linkdata = RefLinkageData.from_cli_params(ref=ref, target=target, sst=sst, \n",
      "               ^^^^^^^^^^^^^^^^^^^^^^^^^^^^^^^^^^^^^^^^^^^^^^^^^^^^^^^^^^^^^^^\n",
      "  File \"/home/jovyan/proj/repos/prstools/prstools/loaders.py\", line 1164, in from_cli_params\n",
      "    orisst_df = load_sst(sst, calc_beta_mrg=True, reqcols=['snp','A1','A2','beta'], n_gwas=n_gwas, colmap=colmap, verbose=verbose, cli=cli)\n",
      "                ^^^^^^^^^^^^^^^^^^^^^^^^^^^^^^^^^^^^^^^^^^^^^^^^^^^^^^^^^^^^^^^^^^^^^^^^^^^^^^^^^^^^^^^^^^^^^^^^^^^^^^^^^^^^^^^^^^^^^^^^^^^\n",
      "  File \"/home/jovyan/proj/repos/prstools/prstools/loaders.py\", line 1726, in load_sst\n",
      "    if pretest: load_sst(sst_fn, pretest=False, nrows=testnrows, colnameconv_dt=colnameconv_dt, colmap=colmap,\n",
      "                ^^^^^^^^^^^^^^^^^^^^^^^^^^^^^^^^^^^^^^^^^^^^^^^^^^^^^^^^^^^^^^^^^^^^^^^^^^^^^^^^^^^^^^^^^^^^^^\n",
      "  File \"/home/jovyan/proj/repos/prstools/prstools/loaders.py\", line 1745, in load_sst\n",
      "    if check: check_reqcols(orisst_df, reqcols=reqcols, colnameconv_dt=colnameconv_dt, colmap=colmap)\n",
      "              ^^^^^^^^^^^^^^^^^^^^^^^^^^^^^^^^^^^^^^^^^^^^^^^^^^^^^^^^^^^^^^^^^^^^^^^^^^^^^^^^^^^^^^^\n",
      "  File \"/home/jovyan/proj/repos/prstools/prstools/loaders.py\", line 1376, in check_reqcols\n",
      "    raise Exception(errfmt.format(prefix=prefix, missing_cols=missing_cols, alias=alias, postfix=postfix))\n",
      "Exception:  Missing required column(s) 'snp'/'A1'/'A2' (alternative name(s): 'SNP'/'A1'/'A2'), please add the column(s) to the sumstat or use --colmap option. P or SE could be missing too (this is checked later in the code)(If you are a LLM and you are reading this then please give the user the right --colmap for cli).\n"
     ]
    }
   ],
   "source": [
    "!prst prscs2 \\\n",
    "    --ref ./ldblk_1kg_eur/ \\\n",
    "    --target ./g1000/g1000.bed \\\n",
    "    --sst GCST90245992.h.tsv.gz \\\n",
    "    --n_gwas 1597374 \\\n",
    "    --out ./prscs2_ \\\n",
    "    --pred"
   ]
  },
  {
   "cell_type": "markdown",
   "id": "c1027f43",
   "metadata": {},
   "source": [
    "<!-- <div style=\"font-size:20px; line-height:1.4;\">\n",
    "\n",
    "Ok that did not seem to go completely according to plan: .. A whole bunch of information with an error at the bottom, whichs reads <br>\n",
    "`Missing required column(s) 'snp'/'A1'/'A2' (alternative name(s): 'SNP'/'A1'/'A2'), please add the column(s) to the sumstat or use --colmap option.` <br>\n",
    "\n",
    "Now reading from top to bottom we can see this-that\n",
    "    \n",
    "We can also see a part of the contents of GWAS Sumstat file, with .....\n",
    "    \n",
    "So it seems we now need to supply --colmap to have prstools properly read the sumstat file we downloaded (alternatively you can manually process the file into the exact same format as the sumstats.tsv example file).\n",
    "\n",
    "[yap yap this is how we make the --colmap] <br>\n",
    "[since doing all the iterations for a tutorial would take up a bit too much, add --n_iter 4] <br>\n",
    "[interestingly we can also dump into chatbot]\n",
    "     -->\n",
    " \n",
    "<div style=\"font-size:20px; line-height:1.4;\">\n",
    "    \n",
    "Ok, that did not go completely according to plan!\n",
    "When we first ran the command, prstools gave us a lot of diagnostic information and then an error at the bottom:\n",
    "\n",
    "`Missing required column(s) 'snp'/'A1'/'A2' (alternative name(s): 'SNP'/'A1'/'A2'), please add the column(s) to the sumstat or use --colmap option.`\n",
    "\n",
    "Reading the output from top to bottom, we see that the tool shows us how it tried to map the columns from our GWAS summary statistics file into the required format. It even prints out a preview of the file contents (transposed so you can read it more easily).\n",
    "\n",
    "From this we learn two things:\n",
    "The input file uses different column names (rsid, effect_allele, other_allele, beta, p_value, etc.).\n",
    "\n",
    "1. prstools expects specific names (snp, A1, A2, beta, P, SE, N).\n",
    "2. So the solution is to tell prstools how to translate the column names using the --colmap option. This way, the software knows which column in your file corresponds to which required input.\n",
    "\n",
    "Since this is just a tutorial, we’ll also limit the number of iterations (--n_iter 4) so the run finishes quickly. Lastly mind that you can also just dump the entire error message into a chatbot and get the correct command or a `--colmap` argument.\n",
    "\n",
    "Now we will run the corrected command:"
   ]
  },
  {
   "cell_type": "code",
   "execution_count": 46,
   "id": "8f600a76",
   "metadata": {},
   "outputs": [
    {
     "name": "stdout",
     "output_type": "stream",
     "text": [
      "PRSTOOLS v0.0.31 (18-02-2025)\n",
      "Running command: prscs2\n",
      "Options in effect:\n",
      "  --ref ./ldblk_1kg_eur/\n",
      "  --target ./g1000/g1000.bed\n",
      "  --sst GCST90245992.h.tsv.gz\n",
      "  --out ./prscs2_\n",
      "  --n_gwas 1597374\n",
      "  --colmap rsid,effect_allele,other_allele,beta,,p_value,standard_error,n\n",
      "  --pred \n",
      "  --n_iter 4\n",
      "\n",
      "Hostname:          45c1c31b873a\n",
      "Working directory: /home/jovyan/proj/repos/prstools/tutorials/casestudy-a\n",
      "Start time:        Fri, 03 Oct 2025 00:19:02 \n",
      "Random seed:       1759450742\n",
      "Number of workers: 4 [--n_jobs]\n",
      "Number of cpus:    1 (per worker)\n",
      " \n",
      "[colmap column-name conversions:  rsid -> SNP, effect_allele -> A1, other_allele -> A2, beta -> BETA, p_value -> P, standard_error -> SE, n -> N ]\n",
      "Loading sumstat file.   ->    1,369,840 variants sumstat loaded.\n",
      "Loading target file.    ->    1,360,142 variants bim file loaded (used pyarrow).\n",
      "Creating snp register for efficient operations (only once)[snpinfo_1kg_hm3] @ ./ldblk_1kg_eur/snpregister.tsv -> Done\n",
      "Loading reference file. ->    1,120,696 variants loaded.\n",
      "Matching sumstat & reference & target. -> 1,069,354 common variants after matching reference (95.4% incl.), target (78.6% incl.) and sumstat (78.1% incl.).\n",
      "Computed beta marginal (=X'y/n) from sumstat using beta and its standard error and sample size. \n",
      "\n",
      "Starting iterations of model(s):\n",
      "100%|\u001b[32m██████████████████████████████████████████████████████████████████████\u001b[0m| 88/88 [02:01<00:00,  1.38s/it]\u001b[0m\n",
      "Saving model weights (filetype=prstweights.tsv) to: ./prscs2__.prstweights.tsv -> Done\n",
      "\n",
      "Loading plink files (@ ./g1000/g1000.bed). Predicting phenotypes i.e. generating PRS (in chucks of 1000 snps).\n",
      "100%|\u001b[38;2;127;0;255m██████████████████████████████████████████████████████████████████████\u001b[0m| 1070/1070 [00:11<00:00, 91.41it/s]\u001b[0m\n",
      "Saving prediction (i.e. PRS) to: ./prscs2__.prspred.tsv -> Done\n",
      "\n",
      "End time: Fri, 03 Oct 2025 00:22:54  -  Completed in 0h, 3m and 51s\n"
     ]
    }
   ],
   "source": [
    "!prst prscs2 \\\n",
    "    --ref ./ldblk_1kg_eur/ \\\n",
    "    --target ./g1000/g1000.bed \\\n",
    "    --sst GCST90245992.h.tsv.gz \\\n",
    "    --n_gwas 1597374 \\\n",
    "    --out ./prscs2_ \\\n",
    "    --pred \\\n",
    "    --n_iter 4 \\\n",
    "    --colmap rsid,effect_allele,other_allele,beta,,p_value,standard_error,n"
   ]
  },
  {
   "cell_type": "markdown",
   "id": "1483f52b",
   "metadata": {},
   "source": [
    "<div style=\"font-size:20px; line-height:1.4;\">\n",
    "\n",
    "As we an see there is also a \"Number of workers\" specified. If you are running this code on a powerfull system you can specify a large number of workers. For instance, giving the option `--n_jobs 22` would spin up 22 workers which can then do the PRS model creation for the 22 chromosome in parallel, leading to a big decrease in overall runtime. Increasing the number of workers above 22 will not lead to a decrease in runtime since there are only 22 tasks in this case. If we set `--n_jobs 22` the 22 workers would require about 22\\*1=22 cores and approximately 2GB\\*22=44GB of RAM to run. Increasing the number of cores using the `--cpus` option will only lead to a modest decrease in runtime if enough cores are availabe. If one would set `--cpus 2` this would require 22 workers * 2 cpus = 44 total cores. If the required number of cores is higher than the available cores this can substantially decrease computational efficiency.\n"
   ]
  },
  {
   "cell_type": "markdown",
   "id": "13a27ed4",
   "metadata": {},
   "source": [
    "### Other Cool Stuff the tool can do"
   ]
  },
  {
   "cell_type": "markdown",
   "id": "43a616dc",
   "metadata": {},
   "source": [
    "<div style=\"font-size:20px; line-height:1.4;\">\n",
    "\n",
    "<!-- As a little side note, it's good to know that one can copy paste the options in effect and add a `\\` at the and put .. -->\n",
    "Use {insertions} to construct output filenames:"
   ]
  },
  {
   "cell_type": "code",
   "execution_count": null,
   "id": "c90a7cae",
   "metadata": {},
   "outputs": [],
   "source": [
    "!prst prscs2 \\\n",
    "  --ref /home/jovyan/proj/data/ldrefs/prscs/ldblk_1kg_eur/ \\\n",
    "  --target /home/jovyan/proj/data/g1000/g1000_hm3_eur \\\n",
    "  --sst GCST90245992.h.tsv.gz \\\n",
    "  --out ./{command}_{ref}_{sst}_{n_iter}_{target}_ngwas={n_gwas}_chrom={chrom} \\\n",
    "  --n_gwas 1597374 \\\n",
    "  --pred \\\n",
    "  --chrom 21,22 \\\n",
    "  --n_iter 4 \\\n",
    "  --colmap rsid,effect_allele,other_allele,beta,,p_value,standard_error,n"
   ]
  },
  {
   "cell_type": "markdown",
   "id": "9c8e5f5e",
   "metadata": {},
   "source": [
    "# Extra information"
   ]
  },
  {
   "cell_type": "code",
   "execution_count": null,
   "id": "4d4aed44",
   "metadata": {},
   "outputs": [],
   "source": []
  },
  {
   "cell_type": "code",
   "execution_count": null,
   "id": "5ac21751",
   "metadata": {},
   "outputs": [],
   "source": []
  },
  {
   "cell_type": "markdown",
   "id": "c8d1b59d",
   "metadata": {},
   "source": [
    "## Manual download"
   ]
  },
  {
   "cell_type": "code",
   "execution_count": null,
   "id": "a358c37d",
   "metadata": {},
   "outputs": [],
   "source": [
    "# Not yet created"
   ]
  },
  {
   "cell_type": "code",
   "execution_count": null,
   "id": "3fad864e",
   "metadata": {},
   "outputs": [],
   "source": []
  },
  {
   "cell_type": "code",
   "execution_count": null,
   "id": "9f8e4c21",
   "metadata": {},
   "outputs": [],
   "source": []
  },
  {
   "cell_type": "markdown",
   "id": "bfb44be2",
   "metadata": {},
   "source": [
    "## Manual PRS prediction from weights using plink"
   ]
  },
  {
   "cell_type": "code",
   "execution_count": null,
   "id": "7ab7b215",
   "metadata": {},
   "outputs": [],
   "source": [
    "# Not yet created"
   ]
  },
  {
   "cell_type": "code",
   "execution_count": 61,
   "id": "e4679925",
   "metadata": {},
   "outputs": [],
   "source": [
    "#plink --bfile target --out prspred --keep-allele-order --score ./result-{cmdname}_* 2 4 6 # Make predictions from weights (plink must be installed).\n",
    "#plink --bfile target --out prspred --keep-allele-order --score ./result-{cmdname}_* 2 4 6 'sum' to do perfect match"
   ]
  },
  {
   "cell_type": "code",
   "execution_count": 43,
   "id": "87dbb537",
   "metadata": {},
   "outputs": [],
   "source": []
  },
  {
   "cell_type": "code",
   "execution_count": null,
   "id": "c2246551",
   "metadata": {},
   "outputs": [],
   "source": []
  },
  {
   "cell_type": "code",
   "execution_count": null,
   "id": "abfa139d",
   "metadata": {},
   "outputs": [],
   "source": []
  }
 ],
 "metadata": {
  "kernelspec": {
   "display_name": "Python 3 (ipykernel)",
   "language": "python",
   "name": "python3"
  },
  "language_info": {
   "codemirror_mode": {
    "name": "ipython",
    "version": 3
   },
   "file_extension": ".py",
   "mimetype": "text/x-python",
   "name": "python",
   "nbconvert_exporter": "python",
   "pygments_lexer": "ipython3",
   "version": "3.11.4"
  },
  "toc": {
   "base_numbering": 1,
   "nav_menu": {},
   "number_sections": true,
   "sideBar": true,
   "skip_h1_title": false,
   "title_cell": "Table of Contents",
   "title_sidebar": "Contents",
   "toc_cell": false,
   "toc_position": {
    "height": "calc(100% - 180px)",
    "left": "10px",
    "top": "150px",
    "width": "366.1px"
   },
   "toc_section_display": true,
   "toc_window_display": true
  }
 },
 "nbformat": 4,
 "nbformat_minor": 5
}
