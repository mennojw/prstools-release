{
 "cells": [
  {
   "cell_type": "code",
   "execution_count": null,
   "id": "245627b2",
   "metadata": {},
   "outputs": [],
   "source": []
  },
  {
   "cell_type": "code",
   "execution_count": null,
   "id": "fc6d620f",
   "metadata": {},
   "outputs": [],
   "source": []
  },
  {
   "cell_type": "code",
   "execution_count": 10,
   "id": "2ddb3a3f",
   "metadata": {},
   "outputs": [],
   "source": [
    "# You can ignore the stuff on the next lines, its related to making the formatting nicer.\n",
    "import os\n",
    "os.environ['COLUMNS'] = '110'"
   ]
  },
  {
   "cell_type": "code",
   "execution_count": null,
   "id": "45902bbc",
   "metadata": {},
   "outputs": [],
   "source": []
  },
  {
   "cell_type": "markdown",
   "id": "b70ebbd1",
   "metadata": {},
   "source": [
    "# Getting Started\n",
    "\n",
    "<br>\n",
    "<div style=\"font-size:20px; line-height:1.4;\">\n",
    "Hi there! <br>\n",
    "This is the getting started part of the prstools tutorial that in not time will make/let you\n",
    "generate polygenic risk scores. prstools was created with python but it was created with the \n",
    "goal of not requiring you to have any python skills and do most things via the command line.\n",
    "It also can be used inside of a python environment for which there will be a tutorial too. <br>\n",
    "<br>\n",
    "For this tutorial we will assume you ran `pip install prstools`, probably in a conda enviroment, and that worked out just fine.\n",
    "If it did you should now be able to run the following basic example.<br>\n",
    "<i> Good to know: If one uses !something in a jupyter notebook that just means you will be running a bash/commandline command (for instance !ls for a directory). </i> <br>\n",
    "</div>"
   ]
  },
  {
   "cell_type": "code",
   "execution_count": null,
   "id": "2ee01b62",
   "metadata": {},
   "outputs": [],
   "source": []
  },
  {
   "cell_type": "markdown",
   "id": "352b3005",
   "metadata": {},
   "source": [
    "## Basic Example\n",
    "\n",
    "<br>\n",
    "<div style=\"font-size:20px; line-height:1.4;\">\n",
    "   \n",
    "balablablblaballbalbalal `prstools`"
   ]
  },
  {
   "cell_type": "code",
   "execution_count": 3,
   "id": "cc77c9e3",
   "metadata": {},
   "outputs": [
    {
     "name": "stdout",
     "output_type": "stream",
     "text": [
      "\r\n",
      "Usage:\r\n",
      " prstools <command> \b \b ...\r\n",
      "\r\n",
      "Convenient and powerfull Polygenic Risk Score creation. \r\n",
      "'prst' is a commandline shorthand for 'prstools'\r\n",
      "\r\n",
      "Models & Utility Commands:\r\n",
      " <command> \b \b\r\n",
      "  downloadutil  Download and unpack LD reference panels and other data.\r\n",
      "  combine       Yap yap yap new stuff\r\n",
      "  xprs          XPRS: A very fast `eXPReSs` infitessimal effect-size\r\n",
      "                prediction method that can estimate heritabilty on the fly.\r\n",
      "  prscs2        PRS-CS v2: A polygenic prediction method that infers posterior\r\n",
      "                SNP effect sizes under continuous shrinkage (CS) priors.\r\n"
     ]
    }
   ],
   "source": [
    "!prstools"
   ]
  },
  {
   "cell_type": "markdown",
   "id": "051bb09d",
   "metadata": {},
   "source": [
    "<br>\n",
    "<div style=\"font-size:20px; line-height:1.4;\">\n",
    "    \n",
    "<!-- weird stuff has to be empty line here -->\n",
    "This is the base command of prstools and you can also type `prst` as a shorthand.\n",
    "Also its best to see if you can follow along step-by-step so you can see how everything works.\n",
    "We can type `prst prscs2` to access a new version for PRS-CS for us to generate PRSs with. Also you don't have to read all the stuff it outputs now. It's to give you an overview.\n",
    "</div>"
   ]
  },
  {
   "cell_type": "code",
   "execution_count": 12,
   "id": "aac5d705",
   "metadata": {},
   "outputs": [
    {
     "name": "stdout",
     "output_type": "stream",
     "text": [
      "\r\n",
      "Usage:\r\n",
      " prst prscs2 [-h  --cpus <number-of-cpus>] --ref <dir/refcode> --target <bim-prefix> --sst <file>\r\n",
      "                   --out <dir+prefix> [--n_gwas <num>  --chrom <chroms>  --colmap <alternative_colnames>]\r\n",
      "                   [--pred  --n_iter <n_iter>  --n_burnin <n_burnin>  --n_slice <n_slice>]\r\n",
      "                   [--seed <seed>  --a <a>  --b <b>  --phi <phi>  --clip <clip>  --sampler <sampler>]\r\n",
      "\r\n",
      "PRS-CS v2: A polygenic prediction method that infers posterior SNP effect sizes under continuous shrinkage (CS) priors.\r\n",
      "\r\n",
      "General Options:\r\n",
      " -h, --help                               Show this help message and exit.\r\n",
      " -c, --cpus <number-of-cpus>              The number of cpus to use. Generally most efficient if chosen to\r\n",
      "                                          be between 1 and 5. Functionality can be turned-off completely by\r\n",
      "                                          setting it to -1. (default: 1)\r\n",
      "\r\n",
      "Data Arguments (first 5 required):\r\n",
      " -r, --ref_dir, --ref <dir/refcode>       Path to the directory that contains the LD reference panel. You\r\n",
      "                                          can download this reference data manually with 'prstools\r\n",
      "                                          downloadref'. Soon it will be possible to automatically download\r\n",
      "                                          it on the fly. (required)\r\n",
      " -t, --bim_prefix, --target <bim-prefix>  Specify the directory and prefix of the bim file for the target\r\n",
      "                                          dataset. (required)\r\n",
      " -s, --sst_file, --sst <file>             The summary statistics file from which the model will be created.\r\n",
      "                                          The file should contain columns: SNP, A1, A2, BETA or OR, P or SE\r\n",
      "                                          information. At the moment, the file is assumed to be tab-\r\n",
      "                                          seperated, if you like other formats please let devs\r\n",
      "                                          know.Alternative column names can be specified with --columns\r\n",
      "                                          (more info below). SNP column should contain rsid's. See\r\n",
      "                                          \u001b[34mhttps://tinyurl.com/sstxampl\u001b[0m for an example. (required)\r\n",
      " -o, --out_dir, --out <dir+prefix>        Output prefix for the results (variant weights). This should be a\r\n",
      "                                          combination of the desired output dir and file prefix. (required)\r\n",
      " -n, --n_gwas <num>                       Sample size of the GWAS. Not required if sumstat has a 'N' column.\r\n",
      "                                          (default: None)\r\n",
      " --chrom <chroms>                         Optional: Select specific chromosome to work with. You can specify\r\n",
      "                                          a specific chromosome as e.g. \"--chrom 3\". All chromosomes are\r\n",
      "                                          used by default. (default: all)\r\n",
      " --colmap <alternative_colnames>          Optional: Allows one to specify an alterative column name for the\r\n",
      "                                          internally used columns snp,A1,A2,beta,or,pval,se_beta,n_eff (in\r\n",
      "                                          that order). Forinstance \"--colmap\r\n",
      "                                          rsid,a1,a2,beta_gwas,,pvalue,beta_standard_error,\" (OR & N are\r\n",
      "                                          excluded in this example). When the command is run a quick\r\n",
      "                                          this_column -> that_column conversion table will be shown.\r\n",
      "                                          Additionaly prstools has many internal checks to make sure a good\r\n",
      "                                          PRS will be generated! By default this is the PRS-CS standard.\r\n",
      "                                          (default: SNP,A1,A2,BETA,OR,P,SE,N)\r\n",
      " --pred, -p                               Optional: Add this argument to predict the PRS for the induviduals\r\n",
      "                                          in the target dataset.\r\n",
      "\r\n",
      "Model Arguments (all optional):\r\n",
      " --n_iter <n_iter>                        Total number of MCMC iterations. (default: 1000)\r\n",
      " --n_burnin <n_burnin>                    Number of burn-in iterations if larger than 1 or fraction of\r\n",
      "                                          n_iter if smaller then 1. (default: 0.5)\r\n",
      " --n_slice <n_slice>                      Thinning of the Markov chain. (default: 1)\r\n",
      " --seed <seed>                            Random seed for reproducibility. (default: -1)\r\n",
      " --a <a>                                  Parameter a in the gamma-gamma prior. (default: 1.0)\r\n",
      " --b <b>                                  Parameter b in the gamma-gamma prior. (default: 0.5)\r\n",
      " --phi <phi>                              Global shrinkage parameter phi. If phi is not specified, it will\r\n",
      "                                          be learnt from the data using a Bayesian approach (default: -1.0)\r\n",
      " --clip <clip>                            Clip parameter. The default works best in pretty much all cases.\r\n",
      "                                          (default: 1.0)\r\n",
      " --sampler <sampler>                      Sampler algorithm. Rue sampling is the original sampler, which\r\n",
      "                                          gives good results. (default: Rue)\r\n",
      "\r\n",
      "Examples --> can be directly copy-pasted (:\r\n",
      " prst downloadutil --pattern example --destdir ./; cd example                                                \u001b[32m# Makes 'example' dir in current path.\u001b[0m\r\n",
      " prstools prscs2 --ref ldref_1kg_pop --target target --sst sumstats.tsv --n_gwas 2565 --out ./result-prscs2 \u001b[32m# Run the model with example data.\u001b[0m\r\n",
      " prst prscs2 -r ldref_1kg_pop -t target -s sumstats.tsv -n 2565 -o ./result-prscs2 --pred                  \u001b[32m# A shorter version of previous that also does the predictions.\u001b[0m\r\n"
     ]
    }
   ],
   "source": [
    "!prst prscs2"
   ]
  },
  {
   "cell_type": "markdown",
   "id": "999e0f0b",
   "metadata": {},
   "source": [
    "<br>\n",
    "<div style=\"font-size:20px; line-height:1.4;\"> \n",
    "    \n",
    "This printed the help of the `prscs2` model. Now this is quite a bunch of stuff, but before we look into all the special thing we can do, it's important to\n",
    "see that there are 3 types of arguments; General, Data and Model arguments. General and Model are not nessicary for now,\n",
    "the nessicary ones are the Data arguments. To see how to use them we are going to look at an example, which\n",
    "is convenently located at the bottom of the help output. Now, before we can do anything we need a some of data to do things with.\n",
    "For this we will run:    "
   ]
  },
  {
   "cell_type": "code",
   "execution_count": 31,
   "id": "c01c9722",
   "metadata": {},
   "outputs": [
    {
     "name": "stdout",
     "output_type": "stream",
     "text": [
      "\n",
      "A pattern was used, which matched the following files:\n",
      "example.tar.gz\n",
      "\n",
      "Downloading LD reference data, which might take some time. Data will be stored in: ./\n",
      "example.tar.gz        : 100%|\u001b[32m███████████████████████████████████\u001b[0m| 1.83M/1.83M [00:01<00:00, 1.32MB/s]\u001b[0m\n",
      "\n",
      "Finished downloading all LD data. Now we need to unpack all the tar.gz files (takes some time to start):\n",
      "Extracting: 100%|\u001b[32m████████████████████████\u001b[0m| 40/40 [00:00<00:00, 150.75it/s, file=./example/ldref_1kg_pop/snpinfo_1kg_hm3]\u001b[0m\n",
      "Deleting the following files: example.tar.gz, \n",
      "Completely done with downloading & unpacking\n",
      "\n",
      "/home/jovyan/proj/repos/prstools/tutorials/example\n"
     ]
    }
   ],
   "source": [
    "!prst downloadutil --pattern example --destdir ./; cd example\n",
    "# Comment: You only have to the next line if you are using a jupyter notebook, but if you copy everything its gonna be ok too.\n",
    "%cd example "
   ]
  },
  {
   "cell_type": "markdown",
   "id": "922aeb72",
   "metadata": {},
   "source": [
    "<br>\n",
    "<div style=\"font-size:20px; line-height:1.4;\">\n",
    "This downloaded the example data and moved to the director 'example'. Also if any of it fails there is information on how to do it manually in a section below.\n",
    "Let's have a look what's inside the example data folder."
   ]
  },
  {
   "cell_type": "code",
   "execution_count": 34,
   "id": "830c593f",
   "metadata": {},
   "outputs": [
    {
     "name": "stdout",
     "output_type": "stream",
     "text": [
      "ldgm_1kg_pop  ldref_1kg_pop  sumstats.tsv  target.bed  target.bim  target.fam\r\n"
     ]
    }
   ],
   "source": [
    "!ls"
   ]
  },
  {
   "cell_type": "markdown",
   "id": "acc42beb",
   "metadata": {},
   "source": [
    "<br>\n",
    "<div style=\"font-size:20px; line-height:1.4;\">\n",
    "What we have here in the directory are two LD references, a GWAS sumstat and a target dataset in plink format.\n",
    "For this"
   ]
  },
  {
   "cell_type": "code",
   "execution_count": 37,
   "id": "a651c6eb",
   "metadata": {},
   "outputs": [
    {
     "name": "stdout",
     "output_type": "stream",
     "text": [
      "PRSTOOLS v0.0.2 (18-02-2025)\n",
      "Running command: prscs2\n",
      "Options in effect:\n",
      "  --ref ldref_1kg_pop\n",
      "  --target target\n",
      "  --sst sumstats.tsv\n",
      "  --out ./result-prscs2\n",
      "  --n_gwas 2565\n",
      "  --pred \n",
      "\n",
      "Hostname:          ae633bb73cbb\n",
      "Working directory: /home/jovyan/proj/repos/prstools/tutorials/example\n",
      "Start time:        Sat, 28 Jun 2025 06:27:22 \n",
      "Random seed:       1751092042\n",
      "Number of cpus:    1\n",
      " \n",
      "/home/jovyan/proj/repos/prstools/prstools/models/_base.py:204: UserWarning: \u001b[1;31mWARNING: ./result-prscs2_.prstweights.tsv already exists! If you let this code finishs, it will be overwritten.\u001b[0m\n",
      "  warnings.warn(msg)\n",
      "Loading sumstat file.   ->          947 variants sumstat loaded.\n",
      "Loading target file.    ->          947 variants bim file loaded (used pyarrow).\n",
      "Loading reference file. ->          936 variants loaded.\n",
      "Matching sumstat & reference & target. -> 936 common variants after matching reference (100.0% incl.), target (98.8% incl.) and sumstat (98.8% incl.).\n",
      "Computed beta marginal (=X'y/n) from sumstat using p-values and the sign of beta and sample size \n",
      "\n",
      "Starting iterations of model(s):\n",
      "100%|\u001b[32m██████████████████████████████████████████████████████████████████████\u001b[0m| 1000/1000 [00:49<00:00, 20.14it/s]\u001b[0m\n",
      "Saving model weights (filetype=prstweights.tsv) to: ./result-prscs2_.prstweights.tsv -> Done\n",
      "\n",
      "Loading plink files (@ target). Predicting phenotypes i.e. generating PRS (in chucks of 1000 snps).\n",
      "100%|\u001b[38;2;127;0;255m██████████████████████████████████████████████████████████████████████\u001b[0m| 1/1 [00:00<00:00,  7.69it/s]\u001b[0m\n",
      "Saving prediction (i.e. PRS) to: ./result-prscs2_.prspred.tsv -> Done\n",
      "\n",
      "End time: Sat, 28 Jun 2025 06:28:13  -  Completed in 0h, 0m and 50s\n"
     ]
    }
   ],
   "source": [
    "!prstools prscs2 --ref ldref_1kg_pop --target target --sst sumstats.tsv --n_gwas 2565 --out ./result-prscs2 -p"
   ]
  },
  {
   "cell_type": "markdown",
   "id": "5a65d05f",
   "metadata": {},
   "source": [
    "<br>\n",
    "<div style=\"font-size:20px; line-height:1.4;\">\n",
    "Lorem ipsum dolor sit amet, consectetur adipiscing elit. Sed do eiusmod tempor \n",
    "incididunt ut labore et dolore magna aliqua. Ut enim ad minim veniam, quis \n",
    "nostrud exercitation ullamco laboris nisi ut aliquip ex ea commodo consequat. \n",
    "Duis aute irure dolor in reprehenderit in voluptate velit esse cillum dolore \n",
    "eu fugiat nulla pariatur. Excepteur sint occaecat cupidatat non proident, sunt \n",
    "in culpa qui officia deserunt mollit anim id est laborum."
   ]
  },
  {
   "cell_type": "code",
   "execution_count": null,
   "id": "a627928f",
   "metadata": {},
   "outputs": [],
   "source": []
  },
  {
   "cell_type": "code",
   "execution_count": null,
   "id": "553f0d9f",
   "metadata": {},
   "outputs": [],
   "source": []
  },
  {
   "cell_type": "code",
   "execution_count": null,
   "id": "e5ca09a3",
   "metadata": {},
   "outputs": [],
   "source": []
  },
  {
   "cell_type": "code",
   "execution_count": 17,
   "id": "c8b89544",
   "metadata": {},
   "outputs": [
    {
     "name": "stdout",
     "output_type": "stream",
     "text": [
      "01_getting_started.ipynb  example\r\n"
     ]
    }
   ],
   "source": [
    "!ls"
   ]
  },
  {
   "cell_type": "code",
   "execution_count": 20,
   "id": "00bb19d4",
   "metadata": {},
   "outputs": [
    {
     "name": "stdout",
     "output_type": "stream",
     "text": [
      "/home/jovyan/proj/repos/prstools/tutorials\n"
     ]
    }
   ],
   "source": [
    "%cd .."
   ]
  },
  {
   "cell_type": "code",
   "execution_count": 30,
   "id": "7b9a45ec",
   "metadata": {},
   "outputs": [
    {
     "name": "stdout",
     "output_type": "stream",
     "text": [
      "/home/jovyan/proj/repos/prstools/tutorials\n"
     ]
    }
   ],
   "source": [
    "%cd ..\n",
    "!rm -r example"
   ]
  },
  {
   "cell_type": "code",
   "execution_count": 29,
   "id": "31948179",
   "metadata": {},
   "outputs": [
    {
     "name": "stdout",
     "output_type": "stream",
     "text": [
      "ldgm_1kg_pop  ldref_1kg_pop  sumstats.tsv  target.bed  target.bim  target.fam\r\n"
     ]
    }
   ],
   "source": [
    "!ls"
   ]
  },
  {
   "cell_type": "code",
   "execution_count": null,
   "id": "7d405cc6",
   "metadata": {},
   "outputs": [],
   "source": []
  }
 ],
 "metadata": {
  "kernelspec": {
   "display_name": "Python 3 (ipykernel)",
   "language": "python",
   "name": "python3"
  },
  "language_info": {
   "codemirror_mode": {
    "name": "ipython",
    "version": 3
   },
   "file_extension": ".py",
   "mimetype": "text/x-python",
   "name": "python",
   "nbconvert_exporter": "python",
   "pygments_lexer": "ipython3",
   "version": "3.11.4"
  },
  "toc": {
   "base_numbering": 1,
   "nav_menu": {},
   "number_sections": true,
   "sideBar": true,
   "skip_h1_title": false,
   "title_cell": "Table of Contents",
   "title_sidebar": "Contents",
   "toc_cell": false,
   "toc_position": {
    "height": "calc(100% - 180px)",
    "left": "10px",
    "top": "150px",
    "width": "382.1px"
   },
   "toc_section_display": true,
   "toc_window_display": true
  }
 },
 "nbformat": 4,
 "nbformat_minor": 5
}
